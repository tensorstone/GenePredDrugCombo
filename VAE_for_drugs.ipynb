{
 "cells": [
  {
   "cell_type": "code",
   "execution_count": 4,
   "metadata": {},
   "outputs": [
    {
     "name": "stderr",
     "output_type": "stream",
     "text": [
      "Using TensorFlow backend.\n"
     ]
    }
   ],
   "source": [
    "import pandas as pd\n",
    "import numpy as np\n",
    "import scipy\n",
    "import sklearn.cluster\n",
    "from PIL import Image\n",
    "import random\n",
    "import matplotlib.pyplot as plt  \n",
    "from scipy.stats import norm  \n",
    "import keras\n",
    "from keras.models import Sequential\n",
    "from keras.initializers import VarianceScaling,RandomNormal\n",
    "from keras.layers import Input, Dense, Dropout, Conv2D, MaxPooling2D\n",
    "from keras.layers import UpSampling2D, Reshape, Lambda, Flatten, Activation\n",
    "from keras.models import Model  \n",
    "from keras.optimizers import SGD, Adadelta, Adagrad,Adam\n",
    "from keras import backend as K  \n",
    "from keras import objectives  \n",
    "from keras.utils.vis_utils import plot_model  \n",
    "from keras.utils import np_utils, generic_utils\n",
    "import sys \n",
    "import tensorflow as tf\n",
    "from keras.callbacks import TensorBoard, ModelCheckpoint\n",
    "from keras.layers.normalization import BatchNormalization\n",
    "import matplotlib.pyplot as plt\n",
    "import os\n",
    "#os.environ['CUDA_VISIBLE_DEVICES'] = '0'\n",
    "import sklearn\n",
    "from mpl_toolkits.mplot3d import Axes3D\n",
    "%matplotlib inline\n",
    "from sklearn import manifold, datasets,cluster\n",
    "from sklearn.utils import check_random_state"
   ]
  },
  {
   "cell_type": "code",
   "execution_count": 2,
   "metadata": {
    "collapsed": true
   },
   "outputs": [],
   "source": [
    "df = pd.read_csv(\"compare.csv\",delimiter='\\t',header=None)"
   ]
  },
  {
   "cell_type": "code",
   "execution_count": 13,
   "metadata": {
    "collapsed": true
   },
   "outputs": [],
   "source": [
    "df.shape\n",
    "data = df.values\n",
    "#data -=np.mean(data)\n",
    "data /=np.max(np.abs(data))"
   ]
  },
  {
   "cell_type": "code",
   "execution_count": 33,
   "metadata": {},
   "outputs": [
    {
     "data": {
      "text/plain": [
       "2.5118136223995124e-18"
      ]
     },
     "execution_count": 33,
     "metadata": {},
     "output_type": "execute_result"
    }
   ],
   "source": [
    "np.mean(data)"
   ]
  },
  {
   "cell_type": "code",
   "execution_count": 34,
   "metadata": {},
   "outputs": [
    {
     "data": {
      "text/plain": [
       "0.99930788551899008"
      ]
     },
     "execution_count": 34,
     "metadata": {},
     "output_type": "execute_result"
    }
   ],
   "source": [
    "np.max(data)"
   ]
  },
  {
   "cell_type": "code",
   "execution_count": 35,
   "metadata": {},
   "outputs": [
    {
     "data": {
      "text/plain": [
       "-1.0"
      ]
     },
     "execution_count": 35,
     "metadata": {},
     "output_type": "execute_result"
    }
   ],
   "source": [
    "np.min(data)"
   ]
  },
  {
   "cell_type": "code",
   "execution_count": 20,
   "metadata": {
    "collapsed": true
   },
   "outputs": [],
   "source": [
    "batch_size = 100  \n",
    "original_dim = 2120   \n",
    "latent_dim = 2\n",
    "intermediate_dim = 512  #AE is 128\n",
    "nb_epoch = 50  \n",
    "epsilon_std = 1.0  \n",
    " \n",
    "#encoding  \n",
    "x = Input(shape=(original_dim,))  \n",
    "h = Dense(intermediate_dim, activation='relu')(x)  \n",
    "z_mean = Dense(latent_dim)(h)  \n",
    "z_log_var = Dense(latent_dim)(h)  \n",
    "\n",
    "\n",
    "\n",
    "#Gauss sampling,sample Z  \n",
    "def sampling(args):   \n",
    "    z_mean, z_log_var = args  \n",
    "    epsilon = K.random_normal(shape=(batch_size, latent_dim), mean=0.,stddev=epsilon_std)\n",
    "    return z_mean + K.exp(z_log_var / 2)* epsilon\n",
    "\n",
    "\n",
    "\n",
    "z = Lambda(sampling, output_shape=(latent_dim,))([z_mean, z_log_var])\n",
    "\n",
    " \n",
    "decoder_h = Dense(intermediate_dim, activation='relu')(z) \n",
    "decoder_mean = Dense(original_dim, activation='tanh')(decoder_h)\n",
    "\n",
    "\n",
    "\n",
    "\n",
    "def vae_loss(x, decoder_mean):  \n",
    "    xent_loss = original_dim * objectives.binary_crossentropy(x,decoder_mean)\n",
    "    kl_loss = - 0.5 * K.sum(1 + z_log_var - K.square(z_mean) - K.exp(z_log_var), axis=-1)  \n",
    "    return xent_loss + 1*kl_loss \n",
    "\n",
    "vae = Model(x, decoder_mean) \n",
    "vae.compile(optimizer='rmsprop', loss=vae_loss)  \n",
    "\n",
    "newdata = df.values[:10000]\n",
    "index = [i for i in range(len(newdata))]\n",
    "import random\n",
    "random.shuffle(index)\n",
    "newdata = newdata[index]\n",
    "x_train = newdata[:9000]\n",
    "x_test = newdata[9000:10000]\n"
   ]
  },
  {
   "cell_type": "code",
   "execution_count": 39,
   "metadata": {
    "scrolled": true
   },
   "outputs": [
    {
     "name": "stdout",
     "output_type": "stream",
     "text": [
      "Train on 9000 samples, validate on 1000 samples\n",
      "Epoch 1/20\n",
      " 500/9000 [>.............................] - ETA: 2s - loss: -389.8665"
     ]
    },
    {
     "name": "stderr",
     "output_type": "stream",
     "text": [
      "/opt/conda/lib/python3.6/site-packages/ipykernel_launcher.py:6: UserWarning: The `nb_epoch` argument in `fit` has been renamed `epochs`.\n",
      "  \n"
     ]
    },
    {
     "name": "stdout",
     "output_type": "stream",
     "text": [
      "9000/9000 [==============================] - 3s - loss: -393.3005 - val_loss: -392.3655\n",
      "Epoch 2/20\n",
      "9000/9000 [==============================] - 5s - loss: -390.2866 - val_loss: -390.8049\n",
      "Epoch 3/20\n",
      "9000/9000 [==============================] - 6s - loss: -394.4400 - val_loss: -393.1034\n",
      "Epoch 4/20\n",
      "9000/9000 [==============================] - 6s - loss: -397.2441 - val_loss: -396.2060\n",
      "Epoch 5/20\n",
      "9000/9000 [==============================] - 6s - loss: -397.8127 - val_loss: -399.7685\n",
      "Epoch 6/20\n",
      "9000/9000 [==============================] - 6s - loss: -398.6416 - val_loss: -400.7061\n",
      "Epoch 7/20\n",
      "9000/9000 [==============================] - 6s - loss: -400.0622 - val_loss: -401.6394\n",
      "Epoch 8/20\n",
      "9000/9000 [==============================] - 5s - loss: -402.0713 - val_loss: -402.2568\n",
      "Epoch 9/20\n",
      "9000/9000 [==============================] - 5s - loss: -403.3189 - val_loss: -399.5016\n",
      "Epoch 10/20\n",
      "9000/9000 [==============================] - 5s - loss: -404.1565 - val_loss: -405.4698\n",
      "Epoch 11/20\n",
      "9000/9000 [==============================] - 5s - loss: -406.7805 - val_loss: -405.8396\n",
      "Epoch 12/20\n",
      "9000/9000 [==============================] - 5s - loss: -406.6633 - val_loss: -407.0357\n",
      "Epoch 13/20\n",
      "9000/9000 [==============================] - 5s - loss: -406.9684 - val_loss: -406.9173\n",
      "Epoch 14/20\n",
      "9000/9000 [==============================] - 3s - loss: -409.1858 - val_loss: -409.2045\n",
      "Epoch 15/20\n",
      "9000/9000 [==============================] - 3s - loss: -410.9620 - val_loss: -410.8963\n",
      "Epoch 16/20\n",
      "9000/9000 [==============================] - 3s - loss: -411.3135 - val_loss: -405.3109\n",
      "Epoch 17/20\n",
      "9000/9000 [==============================] - 3s - loss: -412.0875 - val_loss: -411.0902\n",
      "Epoch 18/20\n",
      "9000/9000 [==============================] - 3s - loss: -411.9129 - val_loss: -410.9524\n",
      "Epoch 19/20\n",
      "9000/9000 [==============================] - 4s - loss: -411.3976 - val_loss: -410.7779\n",
      "Epoch 20/20\n",
      "9000/9000 [==============================] - 4s - loss: -412.7589 - val_loss: -413.3957\n"
     ]
    },
    {
     "data": {
      "text/plain": [
       "<keras.callbacks.History at 0x7f7d68159128>"
      ]
     },
     "execution_count": 39,
     "metadata": {},
     "output_type": "execute_result"
    }
   ],
   "source": [
    "vae.fit(x_train, x_train,  \n",
    "        shuffle=True,  \n",
    "        nb_epoch=20,  \n",
    "        #verbose=2,  \n",
    "        batch_size=100,  \n",
    "        validation_data=(x_test, x_test))  "
   ]
  },
  {
   "cell_type": "code",
   "execution_count": 40,
   "metadata": {},
   "outputs": [
    {
     "data": {
      "image/png": "[encoded data removed]",
      "text/plain": [
       "<matplotlib.figure.Figure at 0x7f7d68159d30>"
      ]
     },
     "metadata": {},
     "output_type": "display_data"
    }
   ],
   "source": [
    "encoder = Model(x, z_mean)\n",
    "c = np.zeros((1000,))\n",
    "c = (np.sum(x_test,axis=-1))\n",
    "# display a 2D plot of the digit classes in the latent space  \n",
    "x_test_encoded_1 = encoder.predict(x_test, batch_size=batch_size)  \n",
    "plt.figure(figsize=(6, 6))  \n",
    "plt.scatter( (x_test_encoded_1[:, 0]) ,(x_test_encoded_1[:, 1]),c=c)  \n",
    "plt.colorbar()\n",
    "plt.show()\n"
   ]
  },
  {
   "cell_type": "code",
   "execution_count": 23,
   "metadata": {},
   "outputs": [
    {
     "data": {
      "text/plain": [
       "(1000, 2120)"
      ]
     },
     "execution_count": 23,
     "metadata": {},
     "output_type": "execute_result"
    }
   ],
   "source": [
    "x_test.shape"
   ]
  },
  {
   "cell_type": "code",
   "execution_count": 24,
   "metadata": {},
   "outputs": [
    {
     "data": {
      "text/plain": [
       "(1000, 2)"
      ]
     },
     "execution_count": 24,
     "metadata": {},
     "output_type": "execute_result"
    }
   ],
   "source": [
    "x_test_encoded_1.shape"
   ]
  },
  {
   "cell_type": "code",
   "execution_count": 26,
   "metadata": {},
   "outputs": [
    {
     "data": {
      "text/plain": [
       "(1000,)"
      ]
     },
     "execution_count": 26,
     "metadata": {},
     "output_type": "execute_result"
    }
   ],
   "source": [
    "np.sum(x_test,axis=-1).shape"
   ]
  },
  {
   "cell_type": "code",
   "execution_count": 28,
   "metadata": {},
   "outputs": [
    {
     "data": {
      "text/plain": [
       "92.446554878968954"
      ]
     },
     "execution_count": 28,
     "metadata": {},
     "output_type": "execute_result"
    }
   ],
   "source": [
    "c"
   ]
  },
  {
   "cell_type": "code",
   "execution_count": null,
   "metadata": {
    "collapsed": true
   },
   "outputs": [],
   "source": []
  }
 ],
 "metadata": {
  "kernelspec": {
   "display_name": "Python 3",
   "language": "python",
   "name": "python3"
  },
  "language_info": {
   "codemirror_mode": {
    "name": "ipython",
    "version": 3
   },
   "file_extension": ".py",
   "mimetype": "text/x-python",
   "name": "python",
   "nbconvert_exporter": "python",
   "pygments_lexer": "ipython3",
   "version": "3.6.1"
  }
 },
 "nbformat": 4,
 "nbformat_minor": 2
}
